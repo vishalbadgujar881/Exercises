{
 "cells": [
  {
   "cell_type": "code",
   "execution_count": null,
   "id": "43692002-61f8-4497-9b81-02e20d05d539",
   "metadata": {},
   "outputs": [],
   "source": [
    "Exercise 1:\n",
    "Create a NumPy array `arr` of shape (4, 4) with values ranging from 0 to 15. Access and print the element at row 2, column 3."
   ]
  },
  {
   "cell_type": "code",
   "execution_count": 1,
   "id": "c429c5bd-0b61-4ed9-a9bf-4a6e7548b3ef",
   "metadata": {},
   "outputs": [
    {
     "name": "stdout",
     "output_type": "stream",
     "text": [
      "11\n"
     ]
    }
   ],
   "source": [
    "import numpy as np\n",
    "\n",
    "arr = np.arange(16).reshape(4, 4)\n",
    "print(arr[2, 3])"
   ]
  },
  {
   "cell_type": "code",
   "execution_count": null,
   "id": "81af9a84-62cb-4cf4-b69b-a7a1e08fed10",
   "metadata": {},
   "outputs": [],
   "source": [
    "Exercise 2:\n",
    "Create a NumPy array `arr` of shape (5, 5) with random integer values between 0 and 9. Access and print the elements in the second column."
   ]
  },
  {
   "cell_type": "code",
   "execution_count": 2,
   "id": "07e4efc6-8022-4d88-a151-c6fa8e0d3417",
   "metadata": {},
   "outputs": [
    {
     "name": "stdout",
     "output_type": "stream",
     "text": [
      "[0 6 0 7 0]\n"
     ]
    }
   ],
   "source": [
    "import numpy as np\n",
    "\n",
    "arr = np.random.randint(0, 10, size=(5, 5))\n",
    "print(arr[:, 1])"
   ]
  },
  {
   "cell_type": "code",
   "execution_count": null,
   "id": "daeee476-9e14-4834-b63c-84eb111e14d2",
   "metadata": {},
   "outputs": [],
   "source": [
    "Exercise 3:\n",
    "Create a NumPy array `arr` of shape (6, 6) with random integer values between 10 and 50. Access and print the elements in the first two rows and last three columns."
   ]
  },
  {
   "cell_type": "code",
   "execution_count": 4,
   "id": "6ddb2bf4-9b5a-4767-bee6-65cc4973efe3",
   "metadata": {},
   "outputs": [
    {
     "data": {
      "text/plain": [
       "array([[16, 49, 13, 38, 14, 35],\n",
       "       [15, 43, 31, 47, 24, 42],\n",
       "       [32, 16, 37, 50, 50, 17],\n",
       "       [37, 17, 27, 34, 32, 45],\n",
       "       [26, 27, 49, 32, 40, 25],\n",
       "       [29, 35, 45, 12, 47, 38]])"
      ]
     },
     "execution_count": 4,
     "metadata": {},
     "output_type": "execute_result"
    }
   ],
   "source": [
    "import numpy as np\n",
    "\n",
    "arr = np.random.randint(10, 51, size=(6, 6))\n",
    "# print(arr[:2, -3:])\n",
    "arr"
   ]
  },
  {
   "cell_type": "code",
   "execution_count": 5,
   "id": "e50069ba",
   "metadata": {},
   "outputs": [
    {
     "name": "stdout",
     "output_type": "stream",
     "text": [
      "[[38 14 35]\n",
      " [47 24 42]]\n"
     ]
    }
   ],
   "source": [
    "print(arr[:2, -3:])"
   ]
  },
  {
   "cell_type": "code",
   "execution_count": null,
   "id": "802b9de3-643e-45c6-8b80-0cfd3cd7aa88",
   "metadata": {},
   "outputs": [],
   "source": [
    "Exercise 4:\n",
    "Create a NumPy array `arr` of shape (3, 3, 3) with consecutive numbers from 1 to 27. Access and print the element at index (2, 1, 0)."
   ]
  },
  {
   "cell_type": "code",
   "execution_count": null,
   "id": "e519445a-5fff-4904-9ff5-a72b3f55556e",
   "metadata": {},
   "outputs": [],
   "source": [
    "import numpy as np\n",
    "\n",
    "arr = np.arange(1, 28).reshape(3, 3, 3)\n",
    "print(arr[2, 1, 0])"
   ]
  },
  {
   "cell_type": "code",
   "execution_count": null,
   "id": "8f8ffc31-f47e-41ea-ad65-d79d7ce1e2c8",
   "metadata": {},
   "outputs": [],
   "source": [
    "Exercise 5:\n",
    "Create a NumPy array `arr` of shape (4, 4) with consecutive numbers from 1 to 16. Access and print all the elements in the last row."
   ]
  },
  {
   "cell_type": "code",
   "execution_count": null,
   "id": "ac6848cf-9034-4c46-9028-fbfc5553cabd",
   "metadata": {},
   "outputs": [],
   "source": [
    "import numpy as np\n",
    "\n",
    "arr = np.arange(1, 17).reshape(4, 4)\n",
    "print(arr[-1, :])"
   ]
  },
  {
   "cell_type": "code",
   "execution_count": null,
   "id": "5d0a0f85-9cc1-4266-a8c0-9c51f7fa435e",
   "metadata": {},
   "outputs": [],
   "source": [
    "Exercise 6:\n",
    "Create a NumPy array `arr` of shape (5, 5) with random float values between 0 and 1. Access and print the elements in the diagonal."
   ]
  },
  {
   "cell_type": "code",
   "execution_count": null,
   "id": "9c5c2929-0f15-4681-b85b-005f5cf6e01e",
   "metadata": {},
   "outputs": [],
   "source": [
    "import numpy as np\n",
    "\n",
    "arr = np.random.random((5, 5))\n",
    "print(np.diag(arr))"
   ]
  },
  {
   "cell_type": "code",
   "execution_count": null,
   "id": "51e26a23-bcb0-4fb9-9485-2dc9323e8373",
   "metadata": {},
   "outputs": [],
   "source": [
    "Exercise 7:\n",
    "Create a NumPy array `arr` of shape (6, 6) with random integer values between 0 and 9. Access and print the elements in the first and last column."
   ]
  },
  {
   "cell_type": "code",
   "execution_count": null,
   "id": "e64c7aea-c6e5-41c1-9ba6-a6598e702959",
   "metadata": {},
   "outputs": [],
   "source": [
    "import numpy as np\n",
    "\n",
    "arr = np.random.randint(0, 10, size=(6, 6))\n",
    "print(arr[:, [0, -1]])\n"
   ]
  },
  {
   "cell_type": "code",
   "execution_count": null,
   "id": "b25e0f3f-df92-42a5-a304-cf73463fcf27",
   "metadata": {},
   "outputs": [],
   "source": [
    "Exercise 8:\n",
    "Create a NumPy array `arr` of shape (3, 4) with consecutive numbers from 1 to 12. Access and print the elements in the first two rows and columns."
   ]
  },
  {
   "cell_type": "code",
   "execution_count": null,
   "id": "e55e1835-b030-405d-89e9-e4e5daf48e55",
   "metadata": {},
   "outputs": [],
   "source": [
    "import numpy as np\n",
    "\n",
    "arr = np.arange(1, 13).reshape(3, 4)\n",
    "print(arr[:2, :2])"
   ]
  },
  {
   "cell_type": "code",
   "execution_count": null,
   "id": "d3b0a8a9-8288-4d42-bbe7-c2292a60346e",
   "metadata": {},
   "outputs": [],
   "source": [
    "Exercise 9:\n",
    "Create a NumPy array `arr` of shape (4, 4) with random integer values between 1 and 10. Access and print the elements greater than 5."
   ]
  },
  {
   "cell_type": "code",
   "execution_count": null,
   "id": "385b5fb5-0e34-40c2-a3e3-a5d9f64a561a",
   "metadata": {},
   "outputs": [],
   "source": [
    "import numpy as np\n",
    "\n",
    "arr = np.random.randint(1, 11, size=(4, 4))\n",
    "print(arr[arr > 5])"
   ]
  },
  {
   "cell_type": "code",
   "execution_count": null,
   "id": "37979a87-ffc4-496c-84e4-fc0a15611e2b",
   "metadata": {},
   "outputs": [],
   "source": [
    "Exercise 10:\n",
    "Create a NumPy array `arr` of shape (6, 6) with random integer values between 1 and 100. Access and print\n",
    "\n",
    " the elements in the first three rows, last three columns, and skipping every second element.\n"
   ]
  },
  {
   "cell_type": "code",
   "execution_count": 4,
   "id": "77d47373-ce40-4a19-8702-db759c1e4d07",
   "metadata": {},
   "outputs": [
    {
     "data": {
      "text/plain": [
       "array([[ 44,  18,  48,  67,  37,  64],\n",
       "       [ 27,  29,  25,   9,  78,  16],\n",
       "       [ 72,  59,  59,  83,  75,   4],\n",
       "       [ 41,  94,   9,  15, 100,  48],\n",
       "       [ 48,  11,  49,  32,  42,   4],\n",
       "       [ 61,   1,  87,  97,  64,   7]])"
      ]
     },
     "execution_count": 4,
     "metadata": {},
     "output_type": "execute_result"
    }
   ],
   "source": [
    "import numpy as np\n",
    "\n",
    "arr = np.random.randint(1, 101, size=(6, 6))\n",
    "arr"
   ]
  },
  {
   "cell_type": "code",
   "execution_count": 5,
   "id": "a97e36e9",
   "metadata": {},
   "outputs": [
    {
     "data": {
      "text/plain": [
       "array([[67, 64],\n",
       "       [ 9, 16],\n",
       "       [83,  4]])"
      ]
     },
     "execution_count": 5,
     "metadata": {},
     "output_type": "execute_result"
    }
   ],
   "source": [
    "arr[0:3,-3::2]"
   ]
  }
 ],
 "metadata": {
  "kernelspec": {
   "display_name": "Python 3 (ipykernel)",
   "language": "python",
   "name": "python3"
  },
  "language_info": {
   "codemirror_mode": {
    "name": "ipython",
    "version": 3
   },
   "file_extension": ".py",
   "mimetype": "text/x-python",
   "name": "python",
   "nbconvert_exporter": "python",
   "pygments_lexer": "ipython3",
   "version": "3.11.7"
  }
 },
 "nbformat": 4,
 "nbformat_minor": 5
}
