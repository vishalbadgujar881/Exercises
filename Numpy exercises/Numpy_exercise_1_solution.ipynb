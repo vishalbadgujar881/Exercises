{
 "cells": [
  {
   "cell_type": "markdown",
   "id": "a1a9e8de",
   "metadata": {},
   "source": [
    "Exercise 1:\n",
    "\n",
    "Question: Write a NumPy code to create a 3x3 matrix with values ranging from 1 to 9 and print the matrix."
   ]
  },
  {
   "cell_type": "code",
   "execution_count": 1,
   "id": "86f583d3-364a-450d-9e22-1c206dbf456c",
   "metadata": {},
   "outputs": [
    {
     "name": "stdout",
     "output_type": "stream",
     "text": [
      "[[1 2 3]\n",
      " [4 5 6]\n",
      " [7 8 9]]\n"
     ]
    }
   ],
   "source": [
    "import numpy as np\n",
    "\n",
    "matrix = np.arange(1, 10).reshape(3, 3)\n",
    "print(matrix)"
   ]
  },
  {
   "cell_type": "code",
   "execution_count": null,
   "id": "a3ee9b4b-6864-4c92-b0fa-89fdb7489962",
   "metadata": {},
   "outputs": [],
   "source": [
    "Exercise 2:\n",
    "\n",
    "Question: Create a NumPy array with values from 0 to 9, and then reshape it to a 3x3 matrix. Print the reshaped matrix."
   ]
  },
  {
   "cell_type": "code",
   "execution_count": 4,
   "id": "5983069e-b9e5-4ecf-91d8-fb701a2a4cb4",
   "metadata": {},
   "outputs": [
    {
     "name": "stdout",
     "output_type": "stream",
     "text": [
      "[[0 1 2]\n",
      " [3 4 5]\n",
      " [6 7 8]]\n"
     ]
    }
   ],
   "source": [
    "\n",
    "import numpy as np\n",
    "\n",
    "arr = np.arange(0,9)\n",
    "matrix = arr.reshape(3, 3)\n",
    "print(matrix)"
   ]
  },
  {
   "cell_type": "code",
   "execution_count": null,
   "id": "aa13aa0c-8c62-4ec1-8774-f1c21302a5ea",
   "metadata": {},
   "outputs": [],
   "source": [
    "Exercise 3:\n",
    "\n",
    "Question: Create a 5x5 identity matrix using NumPy and print it."
   ]
  },
  {
   "cell_type": "code",
   "execution_count": 3,
   "id": "d7c09e2b-9545-4f88-90af-f73e8ed269a9",
   "metadata": {},
   "outputs": [
    {
     "name": "stdout",
     "output_type": "stream",
     "text": [
      "[[1. 0. 0. 0. 0.]\n",
      " [0. 1. 0. 0. 0.]\n",
      " [0. 0. 1. 0. 0.]\n",
      " [0. 0. 0. 1. 0.]\n",
      " [0. 0. 0. 0. 1.]]\n"
     ]
    }
   ],
   "source": [
    "import numpy as np\n",
    "\n",
    "matrix = np.eye(5)\n",
    "print(matrix)"
   ]
  },
  {
   "cell_type": "code",
   "execution_count": null,
   "id": "07df71a4-3bec-4e4c-be62-4163d0a3ac31",
   "metadata": {},
   "outputs": [],
   "source": [
    "Exercise 4:\n",
    "\n",
    "Question: Create a 2D NumPy array with random values between 0 and 1. Print the array."
   ]
  },
  {
   "cell_type": "code",
   "execution_count": 4,
   "id": "7254d33a-e962-435b-9726-d81c969db832",
   "metadata": {},
   "outputs": [
    {
     "name": "stdout",
     "output_type": "stream",
     "text": [
      "[[0.66195487 0.64590568 0.8605902  0.1617966 ]\n",
      " [0.25283164 0.410901   0.75520206 0.86513201]\n",
      " [0.54834566 0.57659543 0.03884449 0.22195107]]\n"
     ]
    }
   ],
   "source": [
    "import numpy as np\n",
    "\n",
    "array = np.random.random((3, 4))\n",
    "print(array)"
   ]
  },
  {
   "cell_type": "code",
   "execution_count": null,
   "id": "9c99a468-6c5a-4542-8904-eacd8dfb04db",
   "metadata": {},
   "outputs": [],
   "source": [
    "Exercise 5:\n",
    "\n",
    "Question: Create a NumPy array with values ranging from 1 to 20. Print the elements at even indices."
   ]
  },
  {
   "cell_type": "code",
   "execution_count": 5,
   "id": "48bfc0a4-ed37-4c6f-818f-0eb349afff8b",
   "metadata": {},
   "outputs": [
    {
     "name": "stdout",
     "output_type": "stream",
     "text": [
      "[ 1  3  5  7  9 11 13 15 17 19]\n"
     ]
    }
   ],
   "source": [
    "import numpy as np\n",
    "\n",
    "array = np.arange(1, 21)\n",
    "even_indices = array[::2]\n",
    "print(even_indices)"
   ]
  },
  {
   "cell_type": "code",
   "execution_count": null,
   "id": "95864096-097f-4156-a3a7-e78ce9654be4",
   "metadata": {},
   "outputs": [],
   "source": [
    "Exercise 6:\n",
    "\n",
    "Question: Create a 4x4 matrix with random values between 1 and 10. Find the maximum and minimum values in the matrix."
   ]
  },
  {
   "cell_type": "code",
   "execution_count": 6,
   "id": "91380012-20a0-4d16-9ffe-550d0eeec861",
   "metadata": {},
   "outputs": [
    {
     "name": "stdout",
     "output_type": "stream",
     "text": [
      "Maximum: 9\n",
      "Minimum: 1\n"
     ]
    }
   ],
   "source": [
    "import numpy as np\n",
    "\n",
    "matrix = np.random.randint(1, 10, (4, 4))\n",
    "maximum = np.max(matrix)\n",
    "minimum = np.min(matrix)\n",
    "\n",
    "print(\"Maximum:\", maximum)\n",
    "print(\"Minimum:\", minimum)"
   ]
  },
  {
   "cell_type": "code",
   "execution_count": null,
   "id": "aff7ee7b-e17f-45e7-954d-ae2e19a9d9b6",
   "metadata": {},
   "outputs": [],
   "source": [
    "Exercise 7:\n",
    "\n",
    "Question: Create a NumPy array with values ranging from 0 to 9. Reverse the order of the elements and print the reversed array."
   ]
  },
  {
   "cell_type": "code",
   "execution_count": 7,
   "id": "1819f7b9-dd7d-4f93-9cfd-b4d7f3910116",
   "metadata": {},
   "outputs": [
    {
     "name": "stdout",
     "output_type": "stream",
     "text": [
      "[9 8 7 6 5 4 3 2 1 0]\n"
     ]
    }
   ],
   "source": [
    "import numpy as np\n",
    "\n",
    "array = np.arange(10)\n",
    "reversed_array = np.flip(array)\n",
    "print(reversed_array)"
   ]
  },
  {
   "cell_type": "code",
   "execution_count": null,
   "id": "6a1964c0-1418-4e58-bb9e-3c06b2158d37",
   "metadata": {},
   "outputs": [],
   "source": [
    "Exercise 8:\n",
    "\n",
    "Question: Create a 3x3 matrix with random integers between 1 and 100. Calculate the sum of all the elements in the matrix."
   ]
  },
  {
   "cell_type": "code",
   "execution_count": null,
   "id": "e8eaf6ee-8f21-446e-a75e-2aca877f1a0e",
   "metadata": {},
   "outputs": [],
   "source": [
    "import numpy as np\n",
    "\n",
    "matrix = np.random.randint(1, 100, (3, 3))\n",
    "sum_of_elements = np.sum(matrix)\n",
    "print(\"Sum of elements:\", sum_of_elements)"
   ]
  },
  {
   "cell_type": "code",
   "execution_count": null,
   "id": "7727659c-bd02-4b67-ad97-dfee97eb7e2b",
   "metadata": {},
   "outputs": [],
   "source": [
    "Exercise 9:\n",
    "\n",
    "Question: Create a NumPy array with 10 equally spaced values between 0 and 1. Print the array."
   ]
  },
  {
   "cell_type": "code",
   "execution_count": 8,
   "id": "71b4e39c-bff2-40dd-b624-b1f795508753",
   "metadata": {},
   "outputs": [
    {
     "name": "stdout",
     "output_type": "stream",
     "text": [
      "[0.         0.11111111 0.22222222 0.33333333 0.44444444 0.55555556\n",
      " 0.66666667 0.77777778 0.88888889 1.        ]\n"
     ]
    }
   ],
   "source": [
    "import numpy as np\n",
    "\n",
    "array = np.linspace(0, 1, 10)\n",
    "print(array)"
   ]
  },
  {
   "cell_type": "code",
   "execution_count": null,
   "id": "3581ee29-d091-4722-bad3-28c6b9516d84",
   "metadata": {},
   "outputs": [],
   "source": [
    "Exercise 10:\n",
    "\n",
    "Question: Create a 2x3 matrix with random integers between 1 and 10. Reshape the matrix to a 3x2 matrix and print the reshaped matrix."
   ]
  },
  {
   "cell_type": "code",
   "execution_count": null,
   "id": "3c131f1a-e6b6-4f18-9137-10c000a61185",
   "metadata": {},
   "outputs": [],
   "source": [
    "import numpy as np\n",
    "\n",
    "matrix = np.random.randint(1, 10, (2, 3))\n",
    "reshaped_matrix = matrix.reshape(3, 2)\n",
    "print(reshaped_matrix)"
   ]
  },
  {
   "cell_type": "code",
   "execution_count": null,
   "id": "f5853973-15d8-4d06-a65e-6cc1be4fa7af",
   "metadata": {},
   "outputs": [],
   "source": [
    "Exercise 11:\n",
    "\n",
    "Question: Create a 4x4 matrix with random integers between 1 and 100. Calculate the mean of each row and print the resulting array."
   ]
  },
  {
   "cell_type": "code",
   "execution_count": 9,
   "id": "503bcfe6-e081-4b4f-9f56-bfa42c901602",
   "metadata": {},
   "outputs": [
    {
     "name": "stdout",
     "output_type": "stream",
     "text": [
      "[55.25 46.   34.75 18.5 ]\n"
     ]
    }
   ],
   "source": [
    "import numpy as np\n",
    "\n",
    "matrix = np.random.randint(1, 100, (4, 4))\n",
    "row_means = np.mean(matrix, axis=1)\n",
    "print(row_means)"
   ]
  },
  {
   "cell_type": "code",
   "execution_count": null,
   "id": "9f03df65-76e7-41ac-9e35-e226f96e4df7",
   "metadata": {},
   "outputs": [],
   "source": [
    "Exercise 12:\n",
    "\n",
    "Question: Create a NumPy array with values ranging from 0\n",
    "\n",
    " to 9. Replace all odd numbers in the array with -1 and print the modified array."
   ]
  },
  {
   "cell_type": "code",
   "execution_count": null,
   "id": "37ab3dbb-651e-47cb-a5ed-80977176c729",
   "metadata": {},
   "outputs": [],
   "source": [
    "import numpy as np\n",
    "\n",
    "array = np.arange(10)\n",
    "array[array % 2 != 0] = -1\n",
    "print(array)\n"
   ]
  },
  {
   "cell_type": "code",
   "execution_count": null,
   "id": "b0d4fd58-e1d8-4f66-babc-26fa3d677738",
   "metadata": {},
   "outputs": [],
   "source": [
    "Exercise 13:\n",
    "\n",
    "Question: Create a 3x3 matrix with random integers between 1 and 10. Multiply the matrix by a scalar value of 2 and print the result."
   ]
  },
  {
   "cell_type": "code",
   "execution_count": null,
   "id": "0a33d3db-fcc3-4bce-9ab1-3125e1a4c04f",
   "metadata": {},
   "outputs": [],
   "source": [
    "import numpy as np\n",
    "\n",
    "matrix = np.random.randint(1, 10, (3, 3))\n",
    "result = matrix * 2\n",
    "print(result)"
   ]
  },
  {
   "cell_type": "code",
   "execution_count": null,
   "id": "ed9ef03b-65b2-48ba-a2da-de99207adb9b",
   "metadata": {},
   "outputs": [],
   "source": [
    "Exercise 14:\n",
    "\n",
    "Question: Create a NumPy array with values ranging from 1 to 10. Square each element in the array and print the resulting array."
   ]
  },
  {
   "cell_type": "code",
   "execution_count": null,
   "id": "ff76d0f5-08c7-4a00-865b-f6947b95fd5c",
   "metadata": {},
   "outputs": [],
   "source": [
    "import numpy as np\n",
    "\n",
    "array = np.arange(1, 11)\n",
    "squared_array = np.square(array)\n",
    "print(squared_array)"
   ]
  },
  {
   "cell_type": "code",
   "execution_count": null,
   "id": "ccf8852f-4bc8-4fe6-8a38-43a2fa3e20a5",
   "metadata": {},
   "outputs": [],
   "source": [
    "Exercise 15:\n",
    "\n",
    "Question: Create a 3x3 matrix with random integers between 1 and 10. Find the sum of each column and print the resulting array.\n"
   ]
  },
  {
   "cell_type": "code",
   "execution_count": null,
   "id": "255f8318-d9f6-430b-83b0-acfc0bc3602d",
   "metadata": {},
   "outputs": [],
   "source": [
    "import numpy as np\n",
    "\n",
    "matrix = np.random.randint(1, 10, (3, 3))\n",
    "column_sums = np.sum(matrix, axis=0)\n",
    "print(column_sums)"
   ]
  },
  {
   "cell_type": "code",
   "execution_count": null,
   "id": "5b6917df-3394-4754-9fde-857ab5e60dad",
   "metadata": {},
   "outputs": [],
   "source": [
    "Exercise 16:\n",
    "\n",
    "Question: Create a 5x5 matrix with random integers between 1 and 100. Find the indices of the maximum and minimum values in the matrix.\n"
   ]
  },
  {
   "cell_type": "code",
   "execution_count": 10,
   "id": "354b401d-e9c9-414c-a7ad-7ab6bacbb46d",
   "metadata": {},
   "outputs": [
    {
     "name": "stdout",
     "output_type": "stream",
     "text": [
      "Maximum value index: (0, 0)\n",
      "Minimum value index: (0, 4)\n"
     ]
    }
   ],
   "source": [
    "import numpy as np\n",
    "\n",
    "matrix = np.random.randint(1, 100, (5, 5))\n",
    "max_index = np.unravel_index(np.argmax(matrix), matrix.shape)\n",
    "min_index = np.unravel_index(np.argmin(matrix), matrix.shape)\n",
    "\n",
    "print(\"Maximum value index:\", max_index)\n",
    "print(\"Minimum value index:\", min_index)"
   ]
  },
  {
   "cell_type": "code",
   "execution_count": null,
   "id": "8c4c665f-e578-4816-a4d9-a886d53b867f",
   "metadata": {},
   "outputs": [],
   "source": [
    "Exercise 17:\n",
    "\n",
    "Question: Create a NumPy array with values ranging from 0 to 9. Extract all the odd numbers from the array and print them.\n"
   ]
  },
  {
   "cell_type": "code",
   "execution_count": null,
   "id": "0af2c451-6b51-4bc7-9516-22bba62975d0",
   "metadata": {},
   "outputs": [],
   "source": [
    "import numpy as np\n",
    "\n",
    "array = np.arange(10)\n",
    "odd_numbers = array[array % 2 != 0]\n",
    "print(odd_numbers)"
   ]
  },
  {
   "cell_type": "code",
   "execution_count": null,
   "id": "94b03272-85cc-4afb-8ee8-7be32a11bb24",
   "metadata": {},
   "outputs": [],
   "source": [
    "Exercise 18:\n",
    "\n",
    "Question: Create a 2x2 matrix with random integers between 1 and 10. Calculate the determinant of the matrix and print the result.\n"
   ]
  },
  {
   "cell_type": "code",
   "execution_count": 12,
   "id": "d9db553f-f87a-4667-919a-64811832b252",
   "metadata": {},
   "outputs": [
    {
     "name": "stdout",
     "output_type": "stream",
     "text": [
      "[[9 7]\n",
      " [7 6]]\n",
      "Determinant: 5.000000000000001\n"
     ]
    }
   ],
   "source": [
    "import numpy as np\n",
    "\n",
    "matrix = np.random.randint(1, 10, (2, 2))\n",
    "print(matrix)\n",
    "determinant = np.linalg.det(matrix)\n",
    "print(\"Determinant:\", determinant)"
   ]
  },
  {
   "cell_type": "code",
   "execution_count": null,
   "id": "62448087-de1c-4a66-b5bc-19ac993bccd4",
   "metadata": {},
   "outputs": [],
   "source": [
    "Exercise 19:\n",
    "\n",
    "Question: Create two NumPy arrays with values ranging from 1 to 5. Concatenate the arrays vertically and print the resulting array.\n"
   ]
  },
  {
   "cell_type": "code",
   "execution_count": null,
   "id": "48c6dfe3-a769-42f8-b4b2-d78a67da4d91",
   "metadata": {},
   "outputs": [],
   "source": [
    "import numpy as np\n",
    "\n",
    "array1 = np.arange(1, 6)\n",
    "array2 = np.arange(1, 6)\n",
    "concatenated_array = np.vstack((array1, array2))\n",
    "print(concatenated_array)"
   ]
  },
  {
   "cell_type": "code",
   "execution_count": null,
   "id": "f906d776-9733-42b9-82d6-72a3deb1ee7e",
   "metadata": {},
   "outputs": [],
   "source": [
    "Exercise 20:\n",
    "\n",
    "Question: Create a 3x3 matrix with random integers between 1 and 10. Calculate the square root of each element in the matrix and print the resulting matrix.\n"
   ]
  },
  {
   "cell_type": "code",
   "execution_count": 13,
   "id": "2d3d440c-f69f-434b-a63b-5f28f3b62449",
   "metadata": {},
   "outputs": [
    {
     "name": "stdout",
     "output_type": "stream",
     "text": [
      "[[1.73205081 1.         2.82842712]\n",
      " [1.73205081 2.         3.        ]\n",
      " [1.         1.41421356 2.        ]]\n"
     ]
    }
   ],
   "source": [
    "import numpy as np\n",
    "\n",
    "matrix = np.random.randint(1, 10, (3, 3))\n",
    "sqrt_matrix = np.sqrt(matrix)\n",
    "print(sqrt_matrix)"
   ]
  }
 ],
 "metadata": {
  "kernelspec": {
   "display_name": "Python 3 (ipykernel)",
   "language": "python",
   "name": "python3"
  },
  "language_info": {
   "codemirror_mode": {
    "name": "ipython",
    "version": 3
   },
   "file_extension": ".py",
   "mimetype": "text/x-python",
   "name": "python",
   "nbconvert_exporter": "python",
   "pygments_lexer": "ipython3",
   "version": "3.11.7"
  }
 },
 "nbformat": 4,
 "nbformat_minor": 5
}
