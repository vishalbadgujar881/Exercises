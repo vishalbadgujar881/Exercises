{
 "cells": [
  {
   "cell_type": "markdown",
   "id": "7a16a135",
   "metadata": {},
   "source": [
    "1. Using pandas, import the CSV file of the country's data. Import the warnings module and use it to \"ignore\" the warnings.\n",
    "2. Create a copy of the DataFrame.Import the file called countries_data_capital_cities. Using the merge() method from pandas, add a capital city column to your DataFrame.\n",
    "3. Using Matplotlib, create a bar plot to visualize the size of the population among the countries. The plot data must be in descending order.\n",
    "4. Using NumPy, calculate the correlation between the population and GDP per capita for each country and create a scatter plot to visualize the relationship between the two variables (population and GDP per capita) using Matplotlib.\n",
    "5. Using pandas, return a subset of the top three countries with the lowest GDP. Assign this to a variable.\n",
    "6. Compare the unemployment rates of Switzerland, China, and the USA. Plot a bar plot of this data using Matplotlib"
   ]
  },
  {
   "cell_type": "markdown",
   "id": "3b159992",
   "metadata": {},
   "source": [
    "### 1. Using pandas, import the CSV file of the country's data. Import the warnings module and use it to \"ignore\" the warnings."
   ]
  },
  {
   "cell_type": "code",
   "execution_count": 2,
   "id": "de6b2efc",
   "metadata": {},
   "outputs": [],
   "source": [
    "import pandas as pd"
   ]
  },
  {
   "cell_type": "code",
   "execution_count": 3,
   "id": "022fc0ef",
   "metadata": {},
   "outputs": [],
   "source": [
    "import warnings\n",
    "warnings.filterwarnings('ignore')"
   ]
  },
  {
   "cell_type": "code",
   "execution_count": 4,
   "id": "1bc608df",
   "metadata": {},
   "outputs": [
    {
     "data": {
      "text/plain": [
       "'2.2.3'"
      ]
     },
     "execution_count": 4,
     "metadata": {},
     "output_type": "execute_result"
    }
   ],
   "source": [
    "pd.__version__"
   ]
  },
  {
   "cell_type": "code",
   "execution_count": 5,
   "id": "3cf2f25e",
   "metadata": {},
   "outputs": [],
   "source": [
    "countries_data = pd.read_csv(r\"C:\\Users\\VISHAL\\OneDrive\\Documents\\Top_mentor study material\\EDA_projects\\csv_format\\countries_population_data.csv\")"
   ]
  },
  {
   "cell_type": "code",
   "execution_count": 6,
   "id": "b8c8d5d4",
   "metadata": {},
   "outputs": [],
   "source": [
    "capital_cities = pd.read_csv(r\"C:\\Users\\VISHAL\\OneDrive\\Documents\\Top_mentor study material\\EDA_projects\\csv_format\\Countries_data_capital_cities.csv\")"
   ]
  },
  {
   "cell_type": "code",
   "execution_count": 7,
   "id": "3d972d44",
   "metadata": {},
   "outputs": [
    {
     "data": {
      "text/html": [
       "<div>\n",
       "<style scoped>\n",
       "    .dataframe tbody tr th:only-of-type {\n",
       "        vertical-align: middle;\n",
       "    }\n",
       "\n",
       "    .dataframe tbody tr th {\n",
       "        vertical-align: top;\n",
       "    }\n",
       "\n",
       "    .dataframe thead th {\n",
       "        text-align: right;\n",
       "    }\n",
       "</style>\n",
       "<table border=\"1\" class=\"dataframe\">\n",
       "  <thead>\n",
       "    <tr style=\"text-align: right;\">\n",
       "      <th></th>\n",
       "      <th>Country</th>\n",
       "      <th>Population</th>\n",
       "      <th>GDP_per_capita</th>\n",
       "      <th>Unemployment_rate</th>\n",
       "      <th>Area</th>\n",
       "    </tr>\n",
       "  </thead>\n",
       "  <tbody>\n",
       "    <tr>\n",
       "      <th>0</th>\n",
       "      <td>United States</td>\n",
       "      <td>331002651</td>\n",
       "      <td>65298</td>\n",
       "      <td>6.10%</td>\n",
       "      <td>9629091</td>\n",
       "    </tr>\n",
       "    <tr>\n",
       "      <th>1</th>\n",
       "      <td>China</td>\n",
       "      <td>1439323776</td>\n",
       "      <td>16708</td>\n",
       "      <td>3.80%</td>\n",
       "      <td>9640011</td>\n",
       "    </tr>\n",
       "    <tr>\n",
       "      <th>2</th>\n",
       "      <td>Japan</td>\n",
       "      <td>126476461</td>\n",
       "      <td>39058</td>\n",
       "      <td>2.80%</td>\n",
       "      <td>377975</td>\n",
       "    </tr>\n",
       "    <tr>\n",
       "      <th>3</th>\n",
       "      <td>Germany</td>\n",
       "      <td>83783942</td>\n",
       "      <td>55803</td>\n",
       "      <td>3.20%</td>\n",
       "      <td>357022</td>\n",
       "    </tr>\n",
       "    <tr>\n",
       "      <th>4</th>\n",
       "      <td>United Kingdom</td>\n",
       "      <td>67886011</td>\n",
       "      <td>44177</td>\n",
       "      <td>4.80%</td>\n",
       "      <td>242500</td>\n",
       "    </tr>\n",
       "  </tbody>\n",
       "</table>\n",
       "</div>"
      ],
      "text/plain": [
       "          Country  Population  GDP_per_capita Unemployment_rate     Area\n",
       "0   United States   331002651           65298             6.10%  9629091\n",
       "1           China  1439323776           16708             3.80%  9640011\n",
       "2           Japan   126476461           39058             2.80%   377975\n",
       "3         Germany    83783942           55803             3.20%   357022\n",
       "4  United Kingdom    67886011           44177             4.80%   242500"
      ]
     },
     "execution_count": 7,
     "metadata": {},
     "output_type": "execute_result"
    }
   ],
   "source": [
    "countries_data.head()"
   ]
  },
  {
   "cell_type": "code",
   "execution_count": 8,
   "id": "4fef2631",
   "metadata": {},
   "outputs": [
    {
     "data": {
      "text/html": [
       "<div>\n",
       "<style scoped>\n",
       "    .dataframe tbody tr th:only-of-type {\n",
       "        vertical-align: middle;\n",
       "    }\n",
       "\n",
       "    .dataframe tbody tr th {\n",
       "        vertical-align: top;\n",
       "    }\n",
       "\n",
       "    .dataframe thead th {\n",
       "        text-align: right;\n",
       "    }\n",
       "</style>\n",
       "<table border=\"1\" class=\"dataframe\">\n",
       "  <thead>\n",
       "    <tr style=\"text-align: right;\">\n",
       "      <th></th>\n",
       "      <th>Country</th>\n",
       "      <th>Capital_City</th>\n",
       "    </tr>\n",
       "  </thead>\n",
       "  <tbody>\n",
       "    <tr>\n",
       "      <th>0</th>\n",
       "      <td>United States</td>\n",
       "      <td>Washington, D.C.</td>\n",
       "    </tr>\n",
       "    <tr>\n",
       "      <th>1</th>\n",
       "      <td>China</td>\n",
       "      <td>Beijing</td>\n",
       "    </tr>\n",
       "    <tr>\n",
       "      <th>2</th>\n",
       "      <td>Japan</td>\n",
       "      <td>Tokyo</td>\n",
       "    </tr>\n",
       "    <tr>\n",
       "      <th>3</th>\n",
       "      <td>Germany</td>\n",
       "      <td>Berlin</td>\n",
       "    </tr>\n",
       "    <tr>\n",
       "      <th>4</th>\n",
       "      <td>United Kingdom</td>\n",
       "      <td>London</td>\n",
       "    </tr>\n",
       "  </tbody>\n",
       "</table>\n",
       "</div>"
      ],
      "text/plain": [
       "          Country      Capital_City\n",
       "0   United States  Washington, D.C.\n",
       "1           China           Beijing\n",
       "2           Japan             Tokyo\n",
       "3         Germany            Berlin\n",
       "4  United Kingdom            London"
      ]
     },
     "execution_count": 8,
     "metadata": {},
     "output_type": "execute_result"
    }
   ],
   "source": [
    "capital_cities.head()"
   ]
  },
  {
   "cell_type": "markdown",
   "id": "670cddb3",
   "metadata": {},
   "source": [
    "### 2. Create a copy of the DataFrame.Import the file called countries_data_capital_cities. Using the merge() method from pandas, add a capital city column to your DataFrame."
   ]
  },
  {
   "cell_type": "code",
   "execution_count": 9,
   "id": "77764654",
   "metadata": {},
   "outputs": [],
   "source": [
    "countries_data_copy = countries_data.copy()"
   ]
  },
  {
   "cell_type": "code",
   "execution_count": 10,
   "id": "8d1fd58c",
   "metadata": {},
   "outputs": [],
   "source": [
    "capital_cities_copy = capital_cities.copy()"
   ]
  },
  {
   "cell_type": "code",
   "execution_count": 11,
   "id": "73692c53",
   "metadata": {},
   "outputs": [
    {
     "data": {
      "text/html": [
       "<div>\n",
       "<style scoped>\n",
       "    .dataframe tbody tr th:only-of-type {\n",
       "        vertical-align: middle;\n",
       "    }\n",
       "\n",
       "    .dataframe tbody tr th {\n",
       "        vertical-align: top;\n",
       "    }\n",
       "\n",
       "    .dataframe thead th {\n",
       "        text-align: right;\n",
       "    }\n",
       "</style>\n",
       "<table border=\"1\" class=\"dataframe\">\n",
       "  <thead>\n",
       "    <tr style=\"text-align: right;\">\n",
       "      <th></th>\n",
       "      <th>Country</th>\n",
       "      <th>Population</th>\n",
       "      <th>GDP_per_capita</th>\n",
       "      <th>Unemployment_rate</th>\n",
       "      <th>Area</th>\n",
       "    </tr>\n",
       "  </thead>\n",
       "  <tbody>\n",
       "    <tr>\n",
       "      <th>0</th>\n",
       "      <td>United States</td>\n",
       "      <td>331002651</td>\n",
       "      <td>65298</td>\n",
       "      <td>6.10%</td>\n",
       "      <td>9629091</td>\n",
       "    </tr>\n",
       "    <tr>\n",
       "      <th>1</th>\n",
       "      <td>China</td>\n",
       "      <td>1439323776</td>\n",
       "      <td>16708</td>\n",
       "      <td>3.80%</td>\n",
       "      <td>9640011</td>\n",
       "    </tr>\n",
       "    <tr>\n",
       "      <th>2</th>\n",
       "      <td>Japan</td>\n",
       "      <td>126476461</td>\n",
       "      <td>39058</td>\n",
       "      <td>2.80%</td>\n",
       "      <td>377975</td>\n",
       "    </tr>\n",
       "    <tr>\n",
       "      <th>3</th>\n",
       "      <td>Germany</td>\n",
       "      <td>83783942</td>\n",
       "      <td>55803</td>\n",
       "      <td>3.20%</td>\n",
       "      <td>357022</td>\n",
       "    </tr>\n",
       "    <tr>\n",
       "      <th>4</th>\n",
       "      <td>United Kingdom</td>\n",
       "      <td>67886011</td>\n",
       "      <td>44177</td>\n",
       "      <td>4.80%</td>\n",
       "      <td>242500</td>\n",
       "    </tr>\n",
       "  </tbody>\n",
       "</table>\n",
       "</div>"
      ],
      "text/plain": [
       "          Country  Population  GDP_per_capita Unemployment_rate     Area\n",
       "0   United States   331002651           65298             6.10%  9629091\n",
       "1           China  1439323776           16708             3.80%  9640011\n",
       "2           Japan   126476461           39058             2.80%   377975\n",
       "3         Germany    83783942           55803             3.20%   357022\n",
       "4  United Kingdom    67886011           44177             4.80%   242500"
      ]
     },
     "execution_count": 11,
     "metadata": {},
     "output_type": "execute_result"
    }
   ],
   "source": [
    "countries_data_copy.head()"
   ]
  },
  {
   "cell_type": "code",
   "execution_count": 12,
   "id": "a2e17da4",
   "metadata": {},
   "outputs": [
    {
     "data": {
      "text/html": [
       "<div>\n",
       "<style scoped>\n",
       "    .dataframe tbody tr th:only-of-type {\n",
       "        vertical-align: middle;\n",
       "    }\n",
       "\n",
       "    .dataframe tbody tr th {\n",
       "        vertical-align: top;\n",
       "    }\n",
       "\n",
       "    .dataframe thead th {\n",
       "        text-align: right;\n",
       "    }\n",
       "</style>\n",
       "<table border=\"1\" class=\"dataframe\">\n",
       "  <thead>\n",
       "    <tr style=\"text-align: right;\">\n",
       "      <th></th>\n",
       "      <th>Country</th>\n",
       "      <th>Capital_City</th>\n",
       "    </tr>\n",
       "  </thead>\n",
       "  <tbody>\n",
       "    <tr>\n",
       "      <th>0</th>\n",
       "      <td>United States</td>\n",
       "      <td>Washington, D.C.</td>\n",
       "    </tr>\n",
       "    <tr>\n",
       "      <th>1</th>\n",
       "      <td>China</td>\n",
       "      <td>Beijing</td>\n",
       "    </tr>\n",
       "    <tr>\n",
       "      <th>2</th>\n",
       "      <td>Japan</td>\n",
       "      <td>Tokyo</td>\n",
       "    </tr>\n",
       "    <tr>\n",
       "      <th>3</th>\n",
       "      <td>Germany</td>\n",
       "      <td>Berlin</td>\n",
       "    </tr>\n",
       "    <tr>\n",
       "      <th>4</th>\n",
       "      <td>United Kingdom</td>\n",
       "      <td>London</td>\n",
       "    </tr>\n",
       "  </tbody>\n",
       "</table>\n",
       "</div>"
      ],
      "text/plain": [
       "          Country      Capital_City\n",
       "0   United States  Washington, D.C.\n",
       "1           China           Beijing\n",
       "2           Japan             Tokyo\n",
       "3         Germany            Berlin\n",
       "4  United Kingdom            London"
      ]
     },
     "execution_count": 12,
     "metadata": {},
     "output_type": "execute_result"
    }
   ],
   "source": [
    "capital_cities_copy.head()"
   ]
  },
  {
   "cell_type": "code",
   "execution_count": 13,
   "id": "917c04c6",
   "metadata": {},
   "outputs": [],
   "source": [
    "countries_data_merged = pd.merge(countries_data_copy,capital_cities_copy, on = \"Country\" )"
   ]
  },
  {
   "cell_type": "code",
   "execution_count": 14,
   "id": "67fc6c3e",
   "metadata": {},
   "outputs": [
    {
     "data": {
      "text/html": [
       "<div>\n",
       "<style scoped>\n",
       "    .dataframe tbody tr th:only-of-type {\n",
       "        vertical-align: middle;\n",
       "    }\n",
       "\n",
       "    .dataframe tbody tr th {\n",
       "        vertical-align: top;\n",
       "    }\n",
       "\n",
       "    .dataframe thead th {\n",
       "        text-align: right;\n",
       "    }\n",
       "</style>\n",
       "<table border=\"1\" class=\"dataframe\">\n",
       "  <thead>\n",
       "    <tr style=\"text-align: right;\">\n",
       "      <th></th>\n",
       "      <th>Country</th>\n",
       "      <th>Population</th>\n",
       "      <th>GDP_per_capita</th>\n",
       "      <th>Unemployment_rate</th>\n",
       "      <th>Area</th>\n",
       "      <th>Capital_City</th>\n",
       "    </tr>\n",
       "  </thead>\n",
       "  <tbody>\n",
       "    <tr>\n",
       "      <th>0</th>\n",
       "      <td>United States</td>\n",
       "      <td>331002651</td>\n",
       "      <td>65298</td>\n",
       "      <td>6.10%</td>\n",
       "      <td>9629091</td>\n",
       "      <td>Washington, D.C.</td>\n",
       "    </tr>\n",
       "    <tr>\n",
       "      <th>1</th>\n",
       "      <td>China</td>\n",
       "      <td>1439323776</td>\n",
       "      <td>16708</td>\n",
       "      <td>3.80%</td>\n",
       "      <td>9640011</td>\n",
       "      <td>Beijing</td>\n",
       "    </tr>\n",
       "    <tr>\n",
       "      <th>2</th>\n",
       "      <td>Japan</td>\n",
       "      <td>126476461</td>\n",
       "      <td>39058</td>\n",
       "      <td>2.80%</td>\n",
       "      <td>377975</td>\n",
       "      <td>Tokyo</td>\n",
       "    </tr>\n",
       "    <tr>\n",
       "      <th>3</th>\n",
       "      <td>Germany</td>\n",
       "      <td>83783942</td>\n",
       "      <td>55803</td>\n",
       "      <td>3.20%</td>\n",
       "      <td>357022</td>\n",
       "      <td>Berlin</td>\n",
       "    </tr>\n",
       "    <tr>\n",
       "      <th>4</th>\n",
       "      <td>United Kingdom</td>\n",
       "      <td>67886011</td>\n",
       "      <td>44177</td>\n",
       "      <td>4.80%</td>\n",
       "      <td>242500</td>\n",
       "      <td>London</td>\n",
       "    </tr>\n",
       "  </tbody>\n",
       "</table>\n",
       "</div>"
      ],
      "text/plain": [
       "          Country  Population  GDP_per_capita Unemployment_rate     Area  \\\n",
       "0   United States   331002651           65298             6.10%  9629091   \n",
       "1           China  1439323776           16708             3.80%  9640011   \n",
       "2           Japan   126476461           39058             2.80%   377975   \n",
       "3         Germany    83783942           55803             3.20%   357022   \n",
       "4  United Kingdom    67886011           44177             4.80%   242500   \n",
       "\n",
       "       Capital_City  \n",
       "0  Washington, D.C.  \n",
       "1           Beijing  \n",
       "2             Tokyo  \n",
       "3            Berlin  \n",
       "4            London  "
      ]
     },
     "execution_count": 14,
     "metadata": {},
     "output_type": "execute_result"
    }
   ],
   "source": [
    "countries_data_merged.head()"
   ]
  },
  {
   "cell_type": "markdown",
   "id": "7b04147f",
   "metadata": {},
   "source": [
    "### 3. Using Matplotlib, create a bar plot to visualize the size of the population among the countries. The plot data must be in descending order."
   ]
  },
  {
   "cell_type": "code",
   "execution_count": 15,
   "id": "59eb5d6e",
   "metadata": {},
   "outputs": [],
   "source": [
    "import matplotlib.pyplot as plt"
   ]
  },
  {
   "cell_type": "code",
   "execution_count": 16,
   "id": "606969a1",
   "metadata": {},
   "outputs": [
    {
     "data": {
      "image/png": "[encoded data removed]",
      "text/plain": [
       "<Figure size 1000x600 with 1 Axes>"
      ]
     },
     "metadata": {},
     "output_type": "display_data"
    }
   ],
   "source": [
    "countries_data_sorted = countries_data_merged.sort_values(by = [\"Population\"], axis = 0, ascending = False)\n",
    "plt.figure(figsize = (10,6))\n",
    "plt.bar(countries_data_sorted[\"Country\"],countries_data_sorted['Population'] )\n",
    "plt.xlabel(\"Country\")\n",
    "plt.ylabel('Population')\n",
    "plt.title('population size by country')\n",
    "plt.xticks(rotation=90)\n",
    "plt.show()"
   ]
  },
  {
   "cell_type": "markdown",
   "id": "d8c64956",
   "metadata": {},
   "source": [
    "### 4. Using NumPy, calculate the correlation between the population and GDP per capita for each country and create a scatter plot "
   ]
  },
  {
   "cell_type": "code",
   "execution_count": 17,
   "id": "686f16df",
   "metadata": {},
   "outputs": [
    {
     "data": {
      "image/png": "[encoded data removed]",
      "text/plain": [
       "<Figure size 800x600 with 1 Axes>"
      ]
     },
     "metadata": {},
     "output_type": "display_data"
    }
   ],
   "source": [
    "import numpy as np\n",
    "\n",
    "correlation = np.corrcoef(countries_data['Population'], countries_data['GDP_per_capita'])[0, 1]\n",
    "plt.figure(figsize=(8, 6))\n",
    "plt.scatter(countries_data['Population'], countries_data['GDP_per_capita'])\n",
    "plt.xlabel('Population')\n",
    "plt.ylabel('GDP per Capita')\n",
    "plt.title(f'Correlation between Population and GDP per Capita: {correlation:.2f}')\n",
    "plt.show()"
   ]
  },
  {
   "cell_type": "markdown",
   "id": "b14eae64",
   "metadata": {},
   "source": [
    "### 5. Using pandas, return a subset of the top three countries with the lowest GDP. Assign this to a variable."
   ]
  },
  {
   "cell_type": "code",
   "execution_count": 18,
   "id": "48d801ba",
   "metadata": {},
   "outputs": [
    {
     "data": {
      "text/html": [
       "<div>\n",
       "<style scoped>\n",
       "    .dataframe tbody tr th:only-of-type {\n",
       "        vertical-align: middle;\n",
       "    }\n",
       "\n",
       "    .dataframe tbody tr th {\n",
       "        vertical-align: top;\n",
       "    }\n",
       "\n",
       "    .dataframe thead th {\n",
       "        text-align: right;\n",
       "    }\n",
       "</style>\n",
       "<table border=\"1\" class=\"dataframe\">\n",
       "  <thead>\n",
       "    <tr style=\"text-align: right;\">\n",
       "      <th></th>\n",
       "      <th>Country</th>\n",
       "      <th>Population</th>\n",
       "      <th>GDP_per_capita</th>\n",
       "      <th>Unemployment_rate</th>\n",
       "      <th>Area</th>\n",
       "    </tr>\n",
       "  </thead>\n",
       "  <tbody>\n",
       "    <tr>\n",
       "      <th>16</th>\n",
       "      <td>India</td>\n",
       "      <td>1380004385</td>\n",
       "      <td>2252</td>\n",
       "      <td>6.10%</td>\n",
       "      <td>3287263</td>\n",
       "    </tr>\n",
       "    <tr>\n",
       "      <th>17</th>\n",
       "      <td>Brazil</td>\n",
       "      <td>212559417</td>\n",
       "      <td>8711</td>\n",
       "      <td>13.90%</td>\n",
       "      <td>8515767</td>\n",
       "    </tr>\n",
       "    <tr>\n",
       "      <th>10</th>\n",
       "      <td>Mexico</td>\n",
       "      <td>128932753</td>\n",
       "      <td>9877</td>\n",
       "      <td>3.60%</td>\n",
       "      <td>1964375</td>\n",
       "    </tr>\n",
       "  </tbody>\n",
       "</table>\n",
       "</div>"
      ],
      "text/plain": [
       "   Country  Population  GDP_per_capita Unemployment_rate     Area\n",
       "16   India  1380004385            2252             6.10%  3287263\n",
       "17  Brazil   212559417            8711            13.90%  8515767\n",
       "10  Mexico   128932753            9877             3.60%  1964375"
      ]
     },
     "execution_count": 18,
     "metadata": {},
     "output_type": "execute_result"
    }
   ],
   "source": [
    "top_three_lowest_gdp = countries_data.nsmallest(3, 'GDP_per_capita')\n",
    "top_three_lowest_gdp"
   ]
  },
  {
   "cell_type": "markdown",
   "id": "3150b6d8",
   "metadata": {},
   "source": [
    "### 6. Compare the unemployment rates of Switzerland, China, and the USA. Plot a bar plot of this data using Matplotlib."
   ]
  },
  {
   "cell_type": "code",
   "execution_count": 19,
   "id": "702cb51c",
   "metadata": {},
   "outputs": [
    {
     "data": {
      "image/png": "[encoded data removed]",
      "text/plain": [
       "<Figure size 800x600 with 1 Axes>"
      ]
     },
     "metadata": {},
     "output_type": "display_data"
    }
   ],
   "source": [
    "selected_countries = countries_data[countries_data['Country'].isin(['Switzerland', 'China', 'USA'])]\n",
    "plt.figure(figsize=(8, 6))\n",
    "plt.bar(selected_countries['Country'], selected_countries['Unemployment_rate'])\n",
    "plt.xlabel('Country')\n",
    "plt.ylabel('Unemployment Rate')\n",
    "plt.title('Unemployment Rates of Switzerland, China, and USA')\n",
    "plt.show()"
   ]
  },
  {
   "cell_type": "code",
   "execution_count": null,
   "id": "f84f74da",
   "metadata": {},
   "outputs": [],
   "source": []
  }
 ],
 "metadata": {
  "kernelspec": {
   "display_name": "Python 3 (ipykernel)",
   "language": "python",
   "name": "python3"
  },
  "language_info": {
   "codemirror_mode": {
    "name": "ipython",
    "version": 3
   },
   "file_extension": ".py",
   "mimetype": "text/x-python",
   "name": "python",
   "nbconvert_exporter": "python",
   "pygments_lexer": "ipython3",
   "version": "3.11.7"
  }
 },
 "nbformat": 4,
 "nbformat_minor": 5
}
